{
 "cells": [
  {
   "cell_type": "markdown",
   "id": "b766de26-a0c3-4572-9d3c-d408170a10b0",
   "metadata": {},
   "source": [
    "# Data Science Tools and Ecosystem"
   ]
  },
  {
   "cell_type": "markdown",
   "id": "4cb666c4-6e16-44b3-b291-eda8e042a36a",
   "metadata": {},
   "source": [
    "#### In this notebook, Data Science Tools and Ecosystem are summarized"
   ]
  },
  {
   "cell_type": "markdown",
   "id": "416c4bc5-1c6c-4a17-a08c-0d98276c49e8",
   "metadata": {},
   "source": [
    "**Keys points of this Data Science Course:**"
   ]
  },
  {
   "cell_type": "markdown",
   "id": "99851e58-df34-4d78-9316-0ab4e69dc9fc",
   "metadata": {},
   "source": [
    "1. Lenguages of Data Science\n",
    "2. Libraries for Data Science\n",
    "3. Application Programning Interfaces (API)\n",
    "4. Private Data and Open Data\n",
    "5. Git/GitHub"
   ]
  },
  {
   "cell_type": "markdown",
   "id": "d78ac9ab-5f77-48e6-95a4-aedccbc33ff5",
   "metadata": {},
   "source": [
    "***Objetives:***\n",
    "- Jupyter management\n",
    "- Kernels\n",
    "- Headers,text bold,italic text,insert link and images\n",
    "- Download somo languages"
   ]
  },
  {
   "cell_type": "markdown",
   "id": "e02c447e-cf06-4307-aff4-307cde07112c",
   "metadata": {},
   "source": [
    "Some of the popular languages that Data Scientist use are:"
   ]
  },
  {
   "cell_type": "markdown",
   "id": "f138a833-2499-48a3-b360-2195b3750644",
   "metadata": {},
   "source": [
    "1. Python\n",
    "2. R\n",
    "3. SQL\n",
    "4. Scala\n",
    "5. Java"
   ]
  },
  {
   "cell_type": "markdown",
   "id": "4503c130-5412-4146-adc7-4fa3f0242fb3",
   "metadata": {},
   "source": [
    "Some of the commonly used libraries used by Data Scientists include:"
   ]
  },
  {
   "cell_type": "markdown",
   "id": "ac88f894-e454-4fa9-beba-f4dd604907ab",
   "metadata": {},
   "source": [
    "1. Pandas\n",
    "2. NumPy\n",
    "3. Matplotlib\n",
    "4. SciPy"
   ]
  },
  {
   "cell_type": "markdown",
   "id": "f03b5175-de44-4408-8713-24e2b1f41918",
   "metadata": {},
   "source": [
    "| Data Science Tools |\n",
    "|--------------------|\n",
    "| Hadoop |\n",
    "| Hive |\n",
    "| Spark |"
   ]
  },
  {
   "cell_type": "markdown",
   "id": "3f143a22-627f-429d-a1e8-40cb4dbdc457",
   "metadata": {},
   "source": [
    "### Below are few examples of evaluating arithmetic expression in Python"
   ]
  },
  {
   "cell_type": "markdown",
   "id": "6a19e7b3-ac8b-4b5d-9e97-423183d513a9",
   "metadata": {},
   "source": [
    "- (2 + 2)  ***Additions***\n",
    "- (6 - 3)  ***Subtractions***\n",
    "- (8 * 2)  ***Multiplication***\n",
    "- (10 / 6)  ***Divisions***\n",
    "- (8 ** 2)  ***Exponentials***"
   ]
  },
  {
   "cell_type": "markdown",
   "id": "4d4f77bf-1102-41f1-932c-690d00eeca35",
   "metadata": {},
   "source": [
    "This is a simple arithmetic expression to get an integer"
   ]
  },
  {
   "cell_type": "code",
   "execution_count": 4,
   "id": "5cfabfc6-c99d-4a15-bf34-eea6ffdbbaae",
   "metadata": {},
   "outputs": [
    {
     "data": {
      "text/plain": [
       "17"
      ]
     },
     "execution_count": 4,
     "metadata": {},
     "output_type": "execute_result"
    }
   ],
   "source": [
    "(3 * 4) + 5"
   ]
  },
  {
   "cell_type": "markdown",
   "id": "b1155db3-82d6-4113-9809-3be0d15cda4a",
   "metadata": {},
   "source": [
    "Thi will turn 200 minutes into hours by dividing it by 60:"
   ]
  },
  {
   "cell_type": "code",
   "execution_count": 5,
   "id": "3f8bdb02-fcd6-4361-9f61-34de882b5159",
   "metadata": {},
   "outputs": [
    {
     "data": {
      "text/plain": [
       "3.3333333333333335"
      ]
     },
     "execution_count": 5,
     "metadata": {},
     "output_type": "execute_result"
    }
   ],
   "source": [
    "(200 / 60)"
   ]
  },
  {
   "cell_type": "markdown",
   "id": "8918eefa-b1f9-4830-ae62-e4e4ee659be8",
   "metadata": {},
   "source": [
    "## Author\n",
    "Yinyelli Yaguare"
   ]
  },
  {
   "cell_type": "code",
   "execution_count": null,
   "id": "b053a166-1776-4a79-85f7-d3a8f070d7db",
   "metadata": {},
   "outputs": [],
   "source": []
  }
 ],
 "metadata": {
  "kernelspec": {
   "display_name": "Python 3 (ipykernel)",
   "language": "python",
   "name": "python3"
  },
  "language_info": {
   "codemirror_mode": {
    "name": "ipython",
    "version": 3
   },
   "file_extension": ".py",
   "mimetype": "text/x-python",
   "name": "python",
   "nbconvert_exporter": "python",
   "pygments_lexer": "ipython3",
   "version": "3.11.7"
  }
 },
 "nbformat": 4,
 "nbformat_minor": 5
}
